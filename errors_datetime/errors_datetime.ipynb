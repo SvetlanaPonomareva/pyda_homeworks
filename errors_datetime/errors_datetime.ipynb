{
 "cells": [
  {
   "cell_type": "markdown",
   "metadata": {},
   "source": [
    "## Задание 1\n",
    "\n",
    "Печатные газеты использовали свой формат дат для каждого выпуска. Для каждой газеты из списка напишите формат указанной даты для перевода в объект datetime: The Moscow Times - Wednesday, October 2, 2002 The Guardian - Friday, 11.10.13 Daily News - Thursday, 18 August 1977"
   ]
  },
  {
   "cell_type": "markdown",
   "metadata": {},
   "source": [
    "## Решение:"
   ]
  },
  {
   "cell_type": "code",
   "execution_count": 2,
   "metadata": {},
   "outputs": [],
   "source": [
    "TMT = 'Wednesday, October 2, 2002'\n",
    "TG = 'Friday, 11.10.13'\n",
    "DN = 'Thursday, 18 August 1977'"
   ]
  },
  {
   "cell_type": "code",
   "execution_count": 3,
   "metadata": {},
   "outputs": [],
   "source": [
    "from datetime import datetime"
   ]
  },
  {
   "cell_type": "code",
   "execution_count": 4,
   "metadata": {},
   "outputs": [],
   "source": [
    "TMT_datetime = datetime.strptime( TMT, '%A, %B %d, %Y' )"
   ]
  },
  {
   "cell_type": "code",
   "execution_count": 5,
   "metadata": {},
   "outputs": [],
   "source": [
    "TG_datetime = datetime.strptime( TG, '%A, %d.%m.%y' )"
   ]
  },
  {
   "cell_type": "code",
   "execution_count": 6,
   "metadata": {},
   "outputs": [],
   "source": [
    "DN_datetime = datetime.strptime( DN, '%A, %d %B %Y' )"
   ]
  },
  {
   "cell_type": "code",
   "execution_count": 7,
   "metadata": {},
   "outputs": [
    {
     "data": {
      "text/plain": [
       "datetime.datetime(2002, 10, 2, 0, 0)"
      ]
     },
     "execution_count": 7,
     "metadata": {},
     "output_type": "execute_result"
    }
   ],
   "source": [
    "TMT_datetime"
   ]
  },
  {
   "cell_type": "code",
   "execution_count": 8,
   "metadata": {},
   "outputs": [
    {
     "data": {
      "text/plain": [
       "datetime.datetime(2013, 10, 11, 0, 0)"
      ]
     },
     "execution_count": 8,
     "metadata": {},
     "output_type": "execute_result"
    }
   ],
   "source": [
    "TG_datetime"
   ]
  },
  {
   "cell_type": "code",
   "execution_count": 9,
   "metadata": {},
   "outputs": [
    {
     "data": {
      "text/plain": [
       "datetime.datetime(1977, 8, 18, 0, 0)"
      ]
     },
     "execution_count": 9,
     "metadata": {},
     "output_type": "execute_result"
    }
   ],
   "source": [
    "DN_datetime"
   ]
  },
  {
   "cell_type": "markdown",
   "metadata": {},
   "source": [
    "## Задание 2:\n",
    "\n",
    "Дан поток дат в формате YYYY-MM-DD, в которых встречаются некорректные значения: stream = [‘2018-04-02’, ‘2018-02-29’, ‘2018-19-02’]\n",
    "Напишите функцию, которая проверяет эти даты на корректность. Т. е. для каждой даты возвращает True (дата корректна) или False (некорректная дата)."
   ]
  },
  {
   "cell_type": "markdown",
   "metadata": {},
   "source": [
    "## Решение:"
   ]
  },
  {
   "cell_type": "code",
   "execution_count": 10,
   "metadata": {},
   "outputs": [],
   "source": [
    "stream = ['2018-04-02', '2018-02-29', '2018-19-02']"
   ]
  },
  {
   "cell_type": "code",
   "execution_count": 11,
   "metadata": {},
   "outputs": [],
   "source": [
    "def valid_date(stream):\n",
    "    for date in stream:\n",
    "        try:\n",
    "            datetime.strptime( date, '%Y-%m-%d' )\n",
    "            print('True')\n",
    "        except:\n",
    "            print('False')\n",
    "  \n",
    "            "
   ]
  },
  {
   "cell_type": "code",
   "execution_count": 12,
   "metadata": {},
   "outputs": [
    {
     "name": "stdout",
     "output_type": "stream",
     "text": [
      "True\n",
      "False\n",
      "False\n"
     ]
    }
   ],
   "source": [
    "valid_date(stream)"
   ]
  },
  {
   "cell_type": "markdown",
   "metadata": {},
   "source": [
    "## Задание 3:\n",
    "\n",
    "Напишите функцию date_range, которая возвращает список дат за период от start_date до end_date. Даты должны вводиться в формате YYYY-MM-DD. В случае неверного формата или при start_date > end_date должен возвращаться пустой список."
   ]
  },
  {
   "cell_type": "markdown",
   "metadata": {},
   "source": [
    "## Решение:"
   ]
  },
  {
   "cell_type": "code",
   "execution_count": 13,
   "metadata": {},
   "outputs": [],
   "source": [
    "from datetime import datetime"
   ]
  },
  {
   "cell_type": "code",
   "execution_count": 14,
   "metadata": {},
   "outputs": [],
   "source": [
    "from datetime import timedelta"
   ]
  },
  {
   "cell_type": "code",
   "execution_count": 15,
   "metadata": {},
   "outputs": [],
   "source": [
    "def date_range():\n",
    "    i = []\n",
    "    \n",
    "    while True:\n",
    "        start_date = input('Введите начальную дату в формате YYYY-MM-DD: ')\n",
    "        end_date = input('Введите конечную дату в формате YYYY-MM-DD: ')\n",
    "        try:\n",
    "            datetime.strptime( start_date, '%Y-%m-%d' )\n",
    "            datetime.strptime( end_date, '%Y-%m-%d' ) \n",
    "            if datetime.strptime( start_date, '%Y-%m-%d' ) < datetime.strptime( end_date, '%Y-%m-%d' ):\n",
    "                break\n",
    "            else:\n",
    "                print('Начальная дата больше конечной')\n",
    "                print(i)\n",
    "\n",
    "        except:\n",
    "            print('Неверный формат даты')\n",
    "            print(i)\n",
    "            \n",
    "    start_date_dt = datetime.strptime( start_date, '%Y-%m-%d' )\n",
    "    end_date_dt = datetime.strptime( end_date, '%Y-%m-%d' )\n",
    "    \n",
    "    current_dt = start_date_dt\n",
    "    while current_dt <= end_date_dt:\n",
    "        i.append([(current_dt.strftime('%Y-%m-%d'))])\n",
    "        current_dt += timedelta(days=1)\n",
    "    print(i)\n",
    " "
   ]
  },
  {
   "cell_type": "code",
   "execution_count": 16,
   "metadata": {},
   "outputs": [
    {
     "name": "stdout",
     "output_type": "stream",
     "text": [
      "Введите начальную дату в формате YYYY-MM-DD: 2021-22-01\n",
      "Введите конечную дату в формате YYYY-MM-DD: 2021-01-10\n",
      "Неверный формат даты\n",
      "[]\n",
      "Введите начальную дату в формате YYYY-MM-DD: 2021-01-10\n",
      "Введите конечную дату в формате YYYY-MM-DD: 2021-01-01\n",
      "Начальная дата больше конечной\n",
      "[]\n",
      "Введите начальную дату в формате YYYY-MM-DD: 2021-01-01\n",
      "Введите конечную дату в формате YYYY-MM-DD: 2021-01-10\n",
      "[['2021-01-01'], ['2021-01-02'], ['2021-01-03'], ['2021-01-04'], ['2021-01-05'], ['2021-01-06'], ['2021-01-07'], ['2021-01-08'], ['2021-01-09'], ['2021-01-10']]\n"
     ]
    }
   ],
   "source": [
    "date_range()"
   ]
  }
 ],
 "metadata": {
  "kernelspec": {
   "display_name": "Python 3",
   "language": "python",
   "name": "python3"
  },
  "language_info": {
   "codemirror_mode": {
    "name": "ipython",
    "version": 3
   },
   "file_extension": ".py",
   "mimetype": "text/x-python",
   "name": "python",
   "nbconvert_exporter": "python",
   "pygments_lexer": "ipython3",
   "version": "3.8.5"
  }
 },
 "nbformat": 4,
 "nbformat_minor": 4
}
